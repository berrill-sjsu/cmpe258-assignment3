{
  "nbformat": 4,
  "nbformat_minor": 0,
  "metadata": {
    "colab": {
      "name": "Question2.ipynb",
      "provenance": [],
      "collapsed_sections": []
    },
    "kernelspec": {
      "name": "python3",
      "display_name": "Python 3"
    },
    "language_info": {
      "name": "python"
    }
  },
  "cells": [
    {
      "cell_type": "markdown",
      "metadata": {
        "id": "GQIM0V9-ap5V"
      },
      "source": [
        "# Timothy Berrilll  \n",
        "## CMPE 258 Assignment 3  \n",
        "## Question 1  "
      ]
    },
    {
      "cell_type": "markdown",
      "metadata": {
        "id": "NVYpa6tpatEz"
      },
      "source": [
        "### Section 0 - Setting up Colab"
      ]
    },
    {
      "cell_type": "code",
      "metadata": {
        "id": "vJZVdD1AYa8n"
      },
      "source": [
        "import tensorflow as tf\n",
        "import numpy as np"
      ],
      "execution_count": 1,
      "outputs": []
    },
    {
      "cell_type": "markdown",
      "metadata": {
        "id": "iQFDF5-Ua1K3"
      },
      "source": [
        "### Section 1 - Building the YOLO Model"
      ]
    },
    {
      "cell_type": "code",
      "metadata": {
        "id": "Vsr3dHLYaqa_"
      },
      "source": [
        "# create 100 fake images to use \n",
        "fake_data = np.random.randn(100, 127, 127, 3)\n",
        "\n",
        "\n",
        "# OUTPUT SIZE\n",
        "grid = 8\n",
        "BBOXES = 2\n",
        "NUM_CLASSES = 20\n",
        "OUTPUT_SIZE = grid * grid * (BBOXES * (5 + NUM_CLASSES))"
      ],
      "execution_count": 38,
      "outputs": []
    },
    {
      "cell_type": "markdown",
      "metadata": {
        "id": "aN1b_YYSskUi"
      },
      "source": [
        "The output size for the model should be (grid, grid, number of bounding boxes * (5 + number of classes))\n",
        "\n",
        "The grid is 8 x 8, and each grid square has 2 anchor boxes. For each anchor box, there are 5 outputs to describe the location, and one output for each of the target classes. So in this case, there are 25 parameters per bounding box and 2 bounding boxes per grid square -> 50 outputs per grid square. The output of the model should then look like (8, 8, 50)"
      ]
    },
    {
      "cell_type": "code",
      "metadata": {
        "id": "spkuwi1Yl2hp"
      },
      "source": [
        "def get_yolo_like_model(input_size):\n",
        "\n",
        "  inputs = tf.keras.Input(shape=input_size)\n",
        "  x = inputs\n",
        "\n",
        "  # block 1\n",
        "  x = tf.keras.layers.Conv2D(64, kernel_size=7, padding='same', strides=2)(x)\n",
        "  x = tf.keras.layers.MaxPool2D(2, padding='same', strides=2)(x)\n",
        "\n",
        "  # block 2\n",
        "  x = tf.keras.layers.Conv2D(192, padding='same', kernel_size=3)(x)\n",
        "  x = tf.keras.layers.MaxPool2D(2, padding='same', strides=2)(x)\n",
        "\n",
        "  # block 3\n",
        "  x = tf.keras.layers.Conv2D(128, padding='same', kernel_size=1)(x)\n",
        "  x = tf.keras.layers.Conv2D(256, padding='same', kernel_size=3)(x)\n",
        "  x = tf.keras.layers.MaxPool2D(2, padding='same', strides=2)(x)\n",
        "\n",
        "  # block 4\n",
        "  x = tf.keras.layers.Conv2D(512, padding='same', kernel_size=1)(x)\n",
        "  x = tf.keras.layers.Conv2D(512, padding='same', kernel_size=3)(x)\n",
        "\n",
        "  # last block\n",
        "  x = tf.keras.layers.Conv2D(512, kernel_size=3)(x)\n",
        "  x = tf.keras.layers.Conv2D(512, kernel_size=3)(x)\n",
        "\n",
        "  # output\n",
        "  x = tf.keras.layers.Flatten()(x)\n",
        "  x = tf.keras.layers.Dense(512, activation='relu')(x)\n",
        "  x = tf.keras.layers.Dense(1024, activation='relu')(x)\n",
        "  x = tf.keras.layers.Dense(OUTPUT_SIZE, activation='sigmoid')(x)\n",
        "  output = tf.keras.layers.Reshape(target_shape=(grid, grid, BBOXES * (5 + NUM_CLASSES)))(x)\n",
        "  return tf.keras.models.Model(inputs=[inputs], outputs=[output])"
      ],
      "execution_count": 39,
      "outputs": []
    },
    {
      "cell_type": "code",
      "metadata": {
        "colab": {
          "base_uri": "https://localhost:8080/"
        },
        "id": "kINrpCzDqwXT",
        "outputId": "79e9d79f-1ad3-42d0-ce54-b958913283ce"
      },
      "source": [
        "yolo_model = get_yolo_like_model(input_size=(127, 127, 3))\n",
        "yolo_model.summary()"
      ],
      "execution_count": 40,
      "outputs": [
        {
          "output_type": "stream",
          "name": "stdout",
          "text": [
            "Model: \"model_8\"\n",
            "_________________________________________________________________\n",
            " Layer (type)                Output Shape              Param #   \n",
            "=================================================================\n",
            " input_14 (InputLayer)       [(None, 127, 127, 3)]     0         \n",
            "                                                                 \n",
            " conv2d_126 (Conv2D)         (None, 64, 64, 64)        9472      \n",
            "                                                                 \n",
            " max_pooling2d_42 (MaxPoolin  (None, 32, 32, 64)       0         \n",
            " g2D)                                                            \n",
            "                                                                 \n",
            " conv2d_127 (Conv2D)         (None, 32, 32, 192)       110784    \n",
            "                                                                 \n",
            " max_pooling2d_43 (MaxPoolin  (None, 16, 16, 192)      0         \n",
            " g2D)                                                            \n",
            "                                                                 \n",
            " conv2d_128 (Conv2D)         (None, 16, 16, 128)       24704     \n",
            "                                                                 \n",
            " conv2d_129 (Conv2D)         (None, 16, 16, 256)       295168    \n",
            "                                                                 \n",
            " max_pooling2d_44 (MaxPoolin  (None, 8, 8, 256)        0         \n",
            " g2D)                                                            \n",
            "                                                                 \n",
            " conv2d_130 (Conv2D)         (None, 8, 8, 512)         131584    \n",
            "                                                                 \n",
            " conv2d_131 (Conv2D)         (None, 8, 8, 512)         2359808   \n",
            "                                                                 \n",
            " conv2d_132 (Conv2D)         (None, 6, 6, 512)         2359808   \n",
            "                                                                 \n",
            " conv2d_133 (Conv2D)         (None, 4, 4, 512)         2359808   \n",
            "                                                                 \n",
            " flatten_10 (Flatten)        (None, 8192)              0         \n",
            "                                                                 \n",
            " dense_30 (Dense)            (None, 512)               4194816   \n",
            "                                                                 \n",
            " dense_31 (Dense)            (None, 1024)              525312    \n",
            "                                                                 \n",
            " dense_32 (Dense)            (None, 3200)              3280000   \n",
            "                                                                 \n",
            " reshape_10 (Reshape)        (None, 8, 8, 50)          0         \n",
            "                                                                 \n",
            "=================================================================\n",
            "Total params: 15,651,264\n",
            "Trainable params: 15,651,264\n",
            "Non-trainable params: 0\n",
            "_________________________________________________________________\n"
          ]
        }
      ]
    },
    {
      "cell_type": "code",
      "metadata": {
        "id": "3YIIzmwmq7RP"
      },
      "source": [
        ""
      ],
      "execution_count": null,
      "outputs": []
    }
  ]
}